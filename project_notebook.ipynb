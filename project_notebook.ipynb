{
 "cells": [
  {
   "cell_type": "markdown",
   "metadata": {},
   "source": [
    "# ML Regression project - Store Sales Prediction (Time Series Forecasting)\n",
    "\n",
    "## Introduction\n",
    "\n",
    "Businesses must forecast product demand to compete. This is especially true for brick-and-mortar grocery stores, which must dance delicately with how much inventory to buy. Predict a little over, and grocers are stuck with overstocked, perishable goods. Guess a little under, and popular items quickly sell out, leading to lost revenue and upset customers. More accurate forecasting, thanks to machine learning, could help ensure retailers make the customers happy by having just enough of the right products at the right time. Everyone hates when their favourite item is out of stock.\n",
    "\n",
    "Current subjective forecasting methods for retail have little data to back them up and are unlikely to be automated. The problem becomes even more complex as retailers add new locations with unique needs, new products, ever-transitioning seasonal tastes, and unpredictable changing market conditions.For grocery stores, more accurate forecasting can decrease food waste related to overstocking and improve customer satisfaction.\n",
    "\n",
    "In this project, we will use regression, a specific type of supervised machine learning that focuses on predicting continuous numerical values, to predict grocery store sales for the thousands of product families sold at Favorita stores located in Ecuador. The training data includes dates, store and product information, whether that item was being promoted, as well as the sales numbers.\n",
    "\n",
    "## 1. Business Understanding\n",
    "\n",
    "The primary objective of this machine learning project is to develop an accurate predictive model for forecasting grocery store sales at Favorita stores in Ecuador. This model will help address the challenge faced by brick-and-mortar grocery stores in managing their inventory effectively. The goal is to predict sales for thousands of product families, considering various factors such as dates, store information, product details, and promotional activities. By achieving this objective, we aim to minimize overstocking, reduce food waste, and enhance customer satisfaction by ensuring that the right products are available in the right quantities at the right time.\n",
    "\n",
    "For this project, we are dealing with a Time series forecasting problem. Time series forecasting involves predicting unknown values by collecting historical data, preparing it for algorithms to consume, and then predicting the future values based on patterns learned from the historical data.\n",
    "\n",
    "We will explore different machine learning algorithms to determine the most suitable one. Potential models include but are not limited to:\n",
    "\n",
    "1. **Time Series Forecasting**: Utilizing techniques such as ARIMA, LSTM, or Prophet to capture temporal patterns and seasonality in sales data.\n",
    "\n",
    "2. **Regression Models**: Employing linear regression, decision trees, random forests, or gradient boosting to account for various features like promotional status, product details, and store information.\n",
    "\n",
    "To assess the performance of the predictive model, we will use metrics such as Root Mean Squared Logarithmic Error (RMSLE), Root Mean Squared Error (RMSE) and Mean Absolute Error (MAE). The errors will be aggregated to evaluate the forecast bias. To be certain whether the model tends to underpredict or overpredict sales, which can be crucial for inventory management.\n",
    "\n",
    "The CRISP-DM (Cross-Industry Standard Process for Data Mining) framework will guide our project, ensuring a structured and iterative approach to solving the forecasting problem. This framework encompasses phases such as Business Understanding, Data Understanding, Data Preparation, Modeling, Evaluation, Deployment, and Maintenance, allowing us to systematically develop and deploy an effective sales forecasting solution for Favorita stores in Ecuador.\n",
    "\n",
    "### Hypothesis\n",
    "\n",
    "**Null Hypothesis (H0)**:\n",
    "\"There is no significant relationship between store sales and promotions.\"\n",
    "\n",
    "**Alternative Hypothesis (Ha)**:\n",
    "\"There is a significant relationship between store sales and churn promotions.\"\n",
    "\n",
    "### Research Questions\n",
    "\n",
    "1. Is the train dataset complete (has all the required dates)?\n",
    "\n",
    "2. Which dates have the lowest and highest sales for each year?\n",
    "\n",
    "3. Did the earthquake impact sales?\n",
    "\n",
    "4. Are certain groups of stores selling more products? (Cluster, city, state, type)\n",
    "\n",
    "5. Are sales affected by promotions, oil prices and holidays?\n",
    "\n",
    "6. What analysis can we get from the date and its extractable features?\n",
    "\n",
    "7. What is the difference between RMSLE, RMSE, MSE (or why is the MAE greater than all of them?)"
   ]
  }
 ],
 "metadata": {
  "language_info": {
   "name": "python"
  },
  "orig_nbformat": 4
 },
 "nbformat": 4,
 "nbformat_minor": 2
}
